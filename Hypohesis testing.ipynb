{
 "cells": [
  {
   "cell_type": "code",
   "execution_count": 1,
   "id": "3c4cbd3f",
   "metadata": {},
   "outputs": [],
   "source": [
    "from scipy import stats"
   ]
  },
  {
   "cell_type": "code",
   "execution_count": 2,
   "id": "6a7cef39",
   "metadata": {},
   "outputs": [],
   "source": [
    "import scipy \n",
    "import numpy as np\n"
   ]
  },
  {
   "cell_type": "code",
   "execution_count": 11,
   "id": "8ab42dca",
   "metadata": {},
   "outputs": [],
   "source": [
    "z= (4000-3050)/(1125/np.sqrt(25))"
   ]
  },
  {
   "cell_type": "code",
   "execution_count": 12,
   "id": "2525f467",
   "metadata": {},
   "outputs": [
    {
     "data": {
      "text/plain": [
       "4.222222222222222"
      ]
     },
     "execution_count": 12,
     "metadata": {},
     "output_type": "execute_result"
    }
   ],
   "source": [
    "z"
   ]
  },
  {
   "cell_type": "code",
   "execution_count": 14,
   "id": "f8196238",
   "metadata": {},
   "outputs": [
    {
     "data": {
      "text/plain": [
       "0.00030009323047423705"
      ]
     },
     "execution_count": 14,
     "metadata": {},
     "output_type": "execute_result"
    }
   ],
   "source": [
    "2*stats.t.cdf(-z,24)"
   ]
  },
  {
   "cell_type": "code",
   "execution_count": 7,
   "id": "c145a18f",
   "metadata": {},
   "outputs": [],
   "source": [
    "p=2*stats.t.cdf(-4.222,24)"
   ]
  },
  {
   "cell_type": "code",
   "execution_count": 8,
   "id": "50ae129d",
   "metadata": {},
   "outputs": [
    {
     "data": {
      "text/plain": [
       "0.0003002625618636689"
      ]
     },
     "execution_count": 8,
     "metadata": {},
     "output_type": "execute_result"
    }
   ],
   "source": [
    "p"
   ]
  },
  {
   "cell_type": "markdown",
   "id": "d719788e",
   "metadata": {},
   "source": [
    "# P value is 0.0003 which is less than the alpha value of 0.05 hence \n",
    "# rejecting the null hypothesis.\n",
    "# the restaurant owners' claim about the increase in weekly operating costs \n"
   ]
  },
  {
   "cell_type": "code",
   "execution_count": null,
   "id": "e7ec5aef",
   "metadata": {},
   "outputs": [],
   "source": []
  }
 ],
 "metadata": {
  "kernelspec": {
   "display_name": "Python 3 (ipykernel)",
   "language": "python",
   "name": "python3"
  },
  "language_info": {
   "codemirror_mode": {
    "name": "ipython",
    "version": 3
   },
   "file_extension": ".py",
   "mimetype": "text/x-python",
   "name": "python",
   "nbconvert_exporter": "python",
   "pygments_lexer": "ipython3",
   "version": "3.11.4"
  }
 },
 "nbformat": 4,
 "nbformat_minor": 5
}
