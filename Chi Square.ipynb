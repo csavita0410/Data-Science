{
 "cells": [
  {
   "cell_type": "code",
   "execution_count": 1,
   "id": "120e9487",
   "metadata": {},
   "outputs": [],
   "source": [
    "from scipy.stats import chi2_contingency\n"
   ]
  },
  {
   "cell_type": "code",
   "execution_count": 2,
   "id": "5e5f4a54",
   "metadata": {},
   "outputs": [],
   "source": [
    "data= [[50, 80, 60, 30, 20],[70,100,90, 50,50]]"
   ]
  },
  {
   "cell_type": "code",
   "execution_count": 3,
   "id": "9e8cb103",
   "metadata": {},
   "outputs": [],
   "source": [
    "stats, p, dof, expected = chifrom scipy.stats import chi2_contingency\n",
    "2_contingency(data)"
   ]
  },
  {
   "cell_type": "code",
   "execution_count": 4,
   "id": "02212ace",
   "metadata": {},
   "outputs": [
    {
     "data": {
      "text/plain": [
       "(5.638227513227513,\n",
       " 0.22784371130697179,\n",
       " 4,\n",
       " array([[ 48.,  72.,  60.,  32.,  28.],\n",
       "        [ 72., 108.,  90.,  48.,  42.]]))"
      ]
     },
     "execution_count": 4,
     "metadata": {},
     "output_type": "execute_result"
    }
   ],
   "source": [
    "stats, p, dof, expected"
   ]
  },
  {
   "cell_type": "code",
   "execution_count": null,
   "id": "f2589329",
   "metadata": {},
   "outputs": [],
   "source": []
  }
 ],
 "metadata": {
  "kernelspec": {
   "display_name": "Python 3 (ipykernel)",
   "language": "python",
   "name": "python3"
  },
  "language_info": {
   "codemirror_mode": {
    "name": "ipython",
    "version": 3
   },
   "file_extension": ".py",
   "mimetype": "text/x-python",
   "name": "python",
   "nbconvert_exporter": "python",
   "pygments_lexer": "ipython3",
   "version": "3.11.4"
  }
 },
 "nbformat": 4,
 "nbformat_minor": 5
}
